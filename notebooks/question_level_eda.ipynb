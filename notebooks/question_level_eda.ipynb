{
 "cells": [
  {
   "cell_type": "markdown",
   "metadata": {},
   "source": [
    "# Imports"
   ]
  },
  {
   "cell_type": "code",
   "execution_count": 1,
   "metadata": {},
   "outputs": [],
   "source": [
    "import pandas as pd\n",
    "import os\n",
    "import glob\n",
    "import matplotlib.pyplot as plt\n",
    "import seaborn as sns\n",
    "import requests\n",
    "from datetime import datetime\n",
    "import numpy as np\n",
    "from collections import Counter\n",
    "import nltk\n",
    "from nltk.corpus import stopwords\n",
    "from nltk.stem import WordNetLemmatizer\n",
    "import string"
   ]
  },
  {
   "cell_type": "markdown",
   "metadata": {},
   "source": [
    "# Questions"
   ]
  },
  {
   "cell_type": "markdown",
   "metadata": {},
   "source": [
    "What do executives say\n",
    "\n",
    "What do analysts say\n",
    "\n",
    "How many words are spoken by both groups\n",
    "\n",
    "How many questions are in each call?"
   ]
  },
  {
   "cell_type": "markdown",
   "metadata": {},
   "source": [
    "# Get the Data"
   ]
  },
  {
   "cell_type": "code",
   "execution_count": 2,
   "metadata": {},
   "outputs": [
    {
     "name": "stdout",
     "output_type": "stream",
     "text": [
      "  symbol  quarter  year                date  \\\n",
      "0    AAL        3  2023 2023-10-19 12:37:10   \n",
      "1    AAL        2  2023 2023-07-20 11:51:04   \n",
      "2    AAL        1  2023 2023-04-27 11:15:04   \n",
      "3    AAL        4  2022 2023-01-26 12:53:07   \n",
      "4    AAL        3  2022 2022-10-20 14:26:04   \n",
      "\n",
      "                                             content  \n",
      "0  Operator: Thank you for standing by and welcom...  \n",
      "1  Operator: Thank you for standing by, and welco...  \n",
      "2  Operator: Thank you for standing by, and welco...  \n",
      "3  Operator: Thank you for standing by, and welco...  \n",
      "4  Operator: Thank you for standing by, and welco...  \n"
     ]
    }
   ],
   "source": [
    "data_directory = '../data/raw/'\n",
    "transcript_files = glob.glob(os.path.join(data_directory, '*_transcripts.json'))\n",
    "\n",
    "all_transcripts = []\n",
    "\n",
    "for file in transcript_files:\n",
    "    transcript_df = pd.read_json(file)\n",
    "    all_transcripts.append(transcript_df)\n",
    "\n",
    "# Combine all DataFrames into a single DataFrame\n",
    "combined_transcripts_df = pd.concat(all_transcripts, ignore_index=True)\n",
    "\n",
    "print(combined_transcripts_df.head())"
   ]
  },
  {
   "cell_type": "code",
   "execution_count": 3,
   "metadata": {},
   "outputs": [
    {
     "data": {
      "text/html": [
       "<div>\n",
       "<style scoped>\n",
       "    .dataframe tbody tr th:only-of-type {\n",
       "        vertical-align: middle;\n",
       "    }\n",
       "\n",
       "    .dataframe tbody tr th {\n",
       "        vertical-align: top;\n",
       "    }\n",
       "\n",
       "    .dataframe thead th {\n",
       "        text-align: right;\n",
       "    }\n",
       "</style>\n",
       "<table border=\"1\" class=\"dataframe\">\n",
       "  <thead>\n",
       "    <tr style=\"text-align: right;\">\n",
       "      <th></th>\n",
       "      <th>symbol</th>\n",
       "      <th>quarter</th>\n",
       "      <th>year</th>\n",
       "      <th>date</th>\n",
       "      <th>content</th>\n",
       "    </tr>\n",
       "  </thead>\n",
       "  <tbody>\n",
       "    <tr>\n",
       "      <th>0</th>\n",
       "      <td>AAL</td>\n",
       "      <td>3</td>\n",
       "      <td>2023</td>\n",
       "      <td>2023-10-19 12:37:10</td>\n",
       "      <td>Operator: Thank you for standing by and welcom...</td>\n",
       "    </tr>\n",
       "    <tr>\n",
       "      <th>1</th>\n",
       "      <td>AAL</td>\n",
       "      <td>2</td>\n",
       "      <td>2023</td>\n",
       "      <td>2023-07-20 11:51:04</td>\n",
       "      <td>Operator: Thank you for standing by, and welco...</td>\n",
       "    </tr>\n",
       "    <tr>\n",
       "      <th>2</th>\n",
       "      <td>AAL</td>\n",
       "      <td>1</td>\n",
       "      <td>2023</td>\n",
       "      <td>2023-04-27 11:15:04</td>\n",
       "      <td>Operator: Thank you for standing by, and welco...</td>\n",
       "    </tr>\n",
       "    <tr>\n",
       "      <th>3</th>\n",
       "      <td>AAL</td>\n",
       "      <td>4</td>\n",
       "      <td>2022</td>\n",
       "      <td>2023-01-26 12:53:07</td>\n",
       "      <td>Operator: Thank you for standing by, and welco...</td>\n",
       "    </tr>\n",
       "    <tr>\n",
       "      <th>4</th>\n",
       "      <td>AAL</td>\n",
       "      <td>3</td>\n",
       "      <td>2022</td>\n",
       "      <td>2022-10-20 14:26:04</td>\n",
       "      <td>Operator: Thank you for standing by, and welco...</td>\n",
       "    </tr>\n",
       "    <tr>\n",
       "      <th>...</th>\n",
       "      <td>...</td>\n",
       "      <td>...</td>\n",
       "      <td>...</td>\n",
       "      <td>...</td>\n",
       "      <td>...</td>\n",
       "    </tr>\n",
       "    <tr>\n",
       "      <th>292</th>\n",
       "      <td>ULCC</td>\n",
       "      <td>2</td>\n",
       "      <td>2022</td>\n",
       "      <td>2022-07-28 23:29:08</td>\n",
       "      <td>Operator: Ladies and gentlemen, thank you for ...</td>\n",
       "    </tr>\n",
       "    <tr>\n",
       "      <th>293</th>\n",
       "      <td>ULCC</td>\n",
       "      <td>1</td>\n",
       "      <td>2022</td>\n",
       "      <td>2022-04-29 17:39:29</td>\n",
       "      <td>Operator: Good day, and thank you for standing...</td>\n",
       "    </tr>\n",
       "    <tr>\n",
       "      <th>294</th>\n",
       "      <td>ULCC</td>\n",
       "      <td>3</td>\n",
       "      <td>2021</td>\n",
       "      <td>2021-11-10 22:51:03</td>\n",
       "      <td>Operator: Ladies and gentlemen, thank you for ...</td>\n",
       "    </tr>\n",
       "    <tr>\n",
       "      <th>295</th>\n",
       "      <td>ULCC</td>\n",
       "      <td>2</td>\n",
       "      <td>2021</td>\n",
       "      <td>2021-08-06 19:06:08</td>\n",
       "      <td>Operator: Hello, and welcome to the Frontier G...</td>\n",
       "    </tr>\n",
       "    <tr>\n",
       "      <th>296</th>\n",
       "      <td>ULCC</td>\n",
       "      <td>1</td>\n",
       "      <td>2021</td>\n",
       "      <td>2021-05-14 18:03:03</td>\n",
       "      <td>Operator: Hello, and welcome to the Frontier G...</td>\n",
       "    </tr>\n",
       "  </tbody>\n",
       "</table>\n",
       "<p>297 rows × 5 columns</p>\n",
       "</div>"
      ],
      "text/plain": [
       "    symbol  quarter  year                date  \\\n",
       "0      AAL        3  2023 2023-10-19 12:37:10   \n",
       "1      AAL        2  2023 2023-07-20 11:51:04   \n",
       "2      AAL        1  2023 2023-04-27 11:15:04   \n",
       "3      AAL        4  2022 2023-01-26 12:53:07   \n",
       "4      AAL        3  2022 2022-10-20 14:26:04   \n",
       "..     ...      ...   ...                 ...   \n",
       "292   ULCC        2  2022 2022-07-28 23:29:08   \n",
       "293   ULCC        1  2022 2022-04-29 17:39:29   \n",
       "294   ULCC        3  2021 2021-11-10 22:51:03   \n",
       "295   ULCC        2  2021 2021-08-06 19:06:08   \n",
       "296   ULCC        1  2021 2021-05-14 18:03:03   \n",
       "\n",
       "                                               content  \n",
       "0    Operator: Thank you for standing by and welcom...  \n",
       "1    Operator: Thank you for standing by, and welco...  \n",
       "2    Operator: Thank you for standing by, and welco...  \n",
       "3    Operator: Thank you for standing by, and welco...  \n",
       "4    Operator: Thank you for standing by, and welco...  \n",
       "..                                                 ...  \n",
       "292  Operator: Ladies and gentlemen, thank you for ...  \n",
       "293  Operator: Good day, and thank you for standing...  \n",
       "294  Operator: Ladies and gentlemen, thank you for ...  \n",
       "295  Operator: Hello, and welcome to the Frontier G...  \n",
       "296  Operator: Hello, and welcome to the Frontier G...  \n",
       "\n",
       "[297 rows x 5 columns]"
      ]
     },
     "execution_count": 3,
     "metadata": {},
     "output_type": "execute_result"
    }
   ],
   "source": [
    "combined_transcripts_df"
   ]
  }
 ],
 "metadata": {
  "kernelspec": {
   "display_name": "venv",
   "language": "python",
   "name": "python3"
  },
  "language_info": {
   "codemirror_mode": {
    "name": "ipython",
    "version": 3
   },
   "file_extension": ".py",
   "mimetype": "text/x-python",
   "name": "python",
   "nbconvert_exporter": "python",
   "pygments_lexer": "ipython3",
   "version": "3.11.0"
  }
 },
 "nbformat": 4,
 "nbformat_minor": 2
}
